{
 "cells": [
  {
   "cell_type": "markdown",
   "metadata": {},
   "source": [
    "### A simple notebook to test and inspect the GEM for Streptomyces coelicolor"
   ]
  },
  {
   "cell_type": "code",
   "execution_count": 3,
   "metadata": {
    "collapsed": true
   },
   "outputs": [],
   "source": [
    "# Import packages\n",
    "import cobra\n"
   ]
  },
  {
   "cell_type": "code",
   "execution_count": 4,
   "metadata": {},
   "outputs": [],
   "source": [
    "# Load model\n",
    "model = cobra.io.read_sbml_model(\"P://git/gem_sco/modelS.xml\")"
   ]
  },
  {
   "cell_type": "code",
   "execution_count": 11,
   "metadata": {},
   "outputs": [
    {
     "name": "stdout",
     "output_type": "stream",
     "text": [
      "18 PPS\n",
      "21 PPCK\n",
      "25 PDH3\n",
      "59 SBP_1\n",
      "68 DGC2D\n",
      "72 ARAB2r\n",
      "73 ABT2DG\n",
      "74 ABTD\n",
      "79 XYLR2\n",
      "80 XYLR3\n",
      "81 XYLTD_D\n",
      "93 GMAND\n",
      "95 KHK\n",
      "101 G1PTT\n",
      "102 DTDPG4E\n",
      "104 GALT\n",
      "113 STACHGALACT\n",
      "121 GALM1\n",
      "123 S6PGB\n",
      "126 LYXE\n",
      "127 LYXID\n",
      "138 URIK2\n",
      "140 PYNP2r\n",
      "181 ADPT2\n",
      "205 XPPT\n",
      "241 TDP\n",
      "292 SERAT\n",
      "297 GLUSy\n",
      "356 PPYRDC\n",
      "368 r0686\n",
      "376 MCSNAH\n",
      "384 ABPYRATA\n",
      "385 SSALx\n",
      "387 GCCcm\n",
      "388 GLYDHD\n",
      "389 MTAM_nh4\n",
      "391 PDHe3hr\n",
      "407 HBCO_nadp\n",
      "408 HBCOA3E\n",
      "412 VOR3b\n",
      "413 MBCOA2\n",
      "420 VOR1b\n",
      "421 MBCOA3\n",
      "426 VOR2b\n",
      "427 IBCOAQ9R\n",
      "432 ALDH\n",
      "433 MMCOAL\n",
      "436 APPLDHr\n",
      "454 D5KGPA2\n",
      "466 UAMAGS2\n",
      "478 NP1\n",
      "479 NCTPPRT\n",
      "480 NT5C\n",
      "485 ASPO\n",
      "487 ASPO3\n",
      "488 ASPO6\n",
      "492 NMNHYD\n",
      "493 PNP\n",
      "496 NADH2r\n",
      "503 BACCL2\n",
      "504 BTNC\n",
      "505 r0120\n",
      "506 r0775\n",
      "507 r0777\n",
      "508 r0708\n",
      "509 DNTPPA_1\n",
      "510 DNMPPA\n",
      "517 DHPS\n",
      "520 THFGLUS\n",
      "525 MTHFR3_1\n",
      "557 HOXPR2\n",
      "561 PDH4\n",
      "566 GLYCTO2\n",
      "569 ALCD2s\n",
      "571 G3PD5\n",
      "573 G3PD\n",
      "579 OXBPTA\n",
      "581 APATc\n",
      "582 PACPTc\n",
      "584 PCFO\n",
      "585 HPHL\n",
      "586 HPCOR\n",
      "587 OCDOR\n",
      "595 SALOR\n",
      "601 NOR_syn\n",
      "602 NTRIR2y\n",
      "611 3OXOR\n",
      "612 CHOLD2\n",
      "613 BTAOR\n",
      "615 ICHORS\n",
      "617 SUCBZS\n",
      "618 SUCBZL\n",
      "619 NPHS\n",
      "620 DHNAOT9\n",
      "621 AMMQT9\n",
      "635 TOLOR\n",
      "636 HOPNTAL3\n",
      "637 OP4ENH3\n",
      "639 ALAS\n",
      "642 G5SAT\n",
      "645 UPP1S\n",
      "646 UPPDC2\n",
      "652 UPP3MT1\n",
      "653 SAMP1MET\n",
      "676 FNOR\n",
      "R09307 CHIRAISO\n",
      "R01868 DHORD4\n",
      "R01866 DHORD_NADP\n",
      "R02106 URO\n",
      "R06604 OHCUS\n",
      "R06601 HURH\n",
      "R09514 URANOR\n",
      "R04858 DMT\n",
      "R01230 GMPS\n",
      "R04230 PPNCL3\n",
      "R08689 MECDPDH4\n",
      "R10859 MECDPDH5_2\n",
      "R05884 IDPS2\n",
      "R02164 SUCD9\n",
      "R02161 CYO1ab\n",
      "R00859 SULR_syn\n",
      "R00529 SADT\n",
      "R09396 4HXPUHBT\n",
      "R09398 LPFPLT\n",
      "R09397 LPPGS\n",
      "R09400 GF4GL_1\n",
      "R09399 GF4GL_0\n",
      "R01092 GALKr\n",
      "R09312 ACTS17\n",
      "R09313 ACTS18\n",
      "R09314 ACTS16b\n",
      "R09269 NAACPHYD\n",
      "R11516 MALCOAMT\n",
      "R01163 HISTDa\n",
      "R03012 HISTDb\n",
      "R00985 ATNS_nh4\n",
      "R01773 HSDxi\n",
      "R04440 KARI_23dhmb\n",
      "R05071 KARI_3hmoa\n",
      "R05069 KARI\n",
      "R05068 KARI_23dhmp\n",
      "R04198 THDPLOR\n",
      "R00473 MLCOAL\n",
      "R10612 MLCOALH\n",
      "R07618 EN6LNOR\n",
      "R00621 r0163\n",
      "R03316 3CTHPPT\n",
      "R00726 ITPOCL\n",
      "R01070 FBA_1\n",
      "R04780 BFBP\n",
      "R01827 TALAb\n",
      "R01830 TKT2h\n",
      "R02736 G6PBDH\n",
      "R10907 G6PDH1b\n",
      "R02739 G6PI\n",
      "R02740 PGIA\n",
      "R09394 GTPCYC\n",
      "R08716 COBP3DH\n",
      "R07772 CODSCL5DA\n",
      "R07773 CODSCL5BMT\n",
      "R05554 UGAH\n",
      "R02569 ACON6LAT\n",
      "R06643 PKBBS\n",
      "R11515 MACPAL\n",
      "R03474 GLUTPAT\n",
      "R03473 GLUAAT\n",
      "R08165 SEPHCHCS\n",
      "R08166 SHCHCS3\n",
      "R04386 ACCOAC_1\n",
      "R00264 DIOP5OR\n",
      "R01087 MALEI\n",
      "R03106 MCPST\n",
      "R03105 MCPST2\n",
      "R04103 PENAM\n",
      "R08056 GLCRD2\n",
      "R10619 GALM2\n",
      "R01088 No bigg id\n"
     ]
    }
   ],
   "source": [
    "import pandas as pd\n",
    "r_dict = {}\n",
    "for r in model.reactions:\n",
    "    try:\n",
    "        int(r.id[1:])\n",
    "    except ValueError:\n",
    "       continue\n",
    "    else:\n",
    "        try:\n",
    "            print(r.id, r.annotation[\"bigg.reaction\"])\n",
    "            r_dict[str(r.id)] = r.annotation[\"bigg.reaction\"]\n",
    "        except:\n",
    "            print(r.id, \"No bigg id\")\n",
    "            \n"
   ]
  },
  {
   "cell_type": "code",
   "execution_count": 16,
   "metadata": {},
   "outputs": [
    {
     "data": {
      "text/html": [
       "<div>\n",
       "<style>\n",
       "    .dataframe thead tr:only-child th {\n",
       "        text-align: right;\n",
       "    }\n",
       "\n",
       "    .dataframe thead th {\n",
       "        text-align: left;\n",
       "    }\n",
       "\n",
       "    .dataframe tbody tr th {\n",
       "        vertical-align: top;\n",
       "    }\n",
       "</style>\n",
       "<table border=\"1\" class=\"dataframe\">\n",
       "  <thead>\n",
       "    <tr style=\"text-align: right;\">\n",
       "      <th></th>\n",
       "      <th>0</th>\n",
       "    </tr>\n",
       "  </thead>\n",
       "  <tbody>\n",
       "    <tr>\n",
       "      <th>101</th>\n",
       "      <td>G1PTT</td>\n",
       "    </tr>\n",
       "    <tr>\n",
       "      <th>102</th>\n",
       "      <td>DTDPG4E</td>\n",
       "    </tr>\n",
       "    <tr>\n",
       "      <th>104</th>\n",
       "      <td>GALT</td>\n",
       "    </tr>\n",
       "    <tr>\n",
       "      <th>113</th>\n",
       "      <td>STACHGALACT</td>\n",
       "    </tr>\n",
       "    <tr>\n",
       "      <th>121</th>\n",
       "      <td>GALM1</td>\n",
       "    </tr>\n",
       "    <tr>\n",
       "      <th>123</th>\n",
       "      <td>S6PGB</td>\n",
       "    </tr>\n",
       "    <tr>\n",
       "      <th>126</th>\n",
       "      <td>LYXE</td>\n",
       "    </tr>\n",
       "    <tr>\n",
       "      <th>127</th>\n",
       "      <td>LYXID</td>\n",
       "    </tr>\n",
       "    <tr>\n",
       "      <th>138</th>\n",
       "      <td>URIK2</td>\n",
       "    </tr>\n",
       "    <tr>\n",
       "      <th>140</th>\n",
       "      <td>PYNP2r</td>\n",
       "    </tr>\n",
       "    <tr>\n",
       "      <th>18</th>\n",
       "      <td>PPS</td>\n",
       "    </tr>\n",
       "    <tr>\n",
       "      <th>181</th>\n",
       "      <td>ADPT2</td>\n",
       "    </tr>\n",
       "    <tr>\n",
       "      <th>205</th>\n",
       "      <td>XPPT</td>\n",
       "    </tr>\n",
       "    <tr>\n",
       "      <th>21</th>\n",
       "      <td>PPCK</td>\n",
       "    </tr>\n",
       "    <tr>\n",
       "      <th>241</th>\n",
       "      <td>TDP</td>\n",
       "    </tr>\n",
       "    <tr>\n",
       "      <th>25</th>\n",
       "      <td>PDH3</td>\n",
       "    </tr>\n",
       "    <tr>\n",
       "      <th>292</th>\n",
       "      <td>SERAT</td>\n",
       "    </tr>\n",
       "    <tr>\n",
       "      <th>297</th>\n",
       "      <td>GLUSy</td>\n",
       "    </tr>\n",
       "    <tr>\n",
       "      <th>356</th>\n",
       "      <td>PPYRDC</td>\n",
       "    </tr>\n",
       "    <tr>\n",
       "      <th>368</th>\n",
       "      <td>r0686</td>\n",
       "    </tr>\n",
       "    <tr>\n",
       "      <th>376</th>\n",
       "      <td>MCSNAH</td>\n",
       "    </tr>\n",
       "    <tr>\n",
       "      <th>384</th>\n",
       "      <td>ABPYRATA</td>\n",
       "    </tr>\n",
       "    <tr>\n",
       "      <th>385</th>\n",
       "      <td>SSALx</td>\n",
       "    </tr>\n",
       "    <tr>\n",
       "      <th>387</th>\n",
       "      <td>GCCcm</td>\n",
       "    </tr>\n",
       "    <tr>\n",
       "      <th>388</th>\n",
       "      <td>GLYDHD</td>\n",
       "    </tr>\n",
       "    <tr>\n",
       "      <th>389</th>\n",
       "      <td>MTAM_nh4</td>\n",
       "    </tr>\n",
       "    <tr>\n",
       "      <th>391</th>\n",
       "      <td>PDHe3hr</td>\n",
       "    </tr>\n",
       "    <tr>\n",
       "      <th>407</th>\n",
       "      <td>HBCO_nadp</td>\n",
       "    </tr>\n",
       "    <tr>\n",
       "      <th>408</th>\n",
       "      <td>HBCOA3E</td>\n",
       "    </tr>\n",
       "    <tr>\n",
       "      <th>412</th>\n",
       "      <td>VOR3b</td>\n",
       "    </tr>\n",
       "    <tr>\n",
       "      <th>...</th>\n",
       "      <td>...</td>\n",
       "    </tr>\n",
       "    <tr>\n",
       "      <th>R05884</th>\n",
       "      <td>IDPS2</td>\n",
       "    </tr>\n",
       "    <tr>\n",
       "      <th>R06601</th>\n",
       "      <td>HURH</td>\n",
       "    </tr>\n",
       "    <tr>\n",
       "      <th>R06604</th>\n",
       "      <td>OHCUS</td>\n",
       "    </tr>\n",
       "    <tr>\n",
       "      <th>R06643</th>\n",
       "      <td>PKBBS</td>\n",
       "    </tr>\n",
       "    <tr>\n",
       "      <th>R07618</th>\n",
       "      <td>EN6LNOR</td>\n",
       "    </tr>\n",
       "    <tr>\n",
       "      <th>R07772</th>\n",
       "      <td>CODSCL5DA</td>\n",
       "    </tr>\n",
       "    <tr>\n",
       "      <th>R07773</th>\n",
       "      <td>CODSCL5BMT</td>\n",
       "    </tr>\n",
       "    <tr>\n",
       "      <th>R08056</th>\n",
       "      <td>GLCRD2</td>\n",
       "    </tr>\n",
       "    <tr>\n",
       "      <th>R08165</th>\n",
       "      <td>SEPHCHCS</td>\n",
       "    </tr>\n",
       "    <tr>\n",
       "      <th>R08166</th>\n",
       "      <td>SHCHCS3</td>\n",
       "    </tr>\n",
       "    <tr>\n",
       "      <th>R08689</th>\n",
       "      <td>MECDPDH4</td>\n",
       "    </tr>\n",
       "    <tr>\n",
       "      <th>R08716</th>\n",
       "      <td>COBP3DH</td>\n",
       "    </tr>\n",
       "    <tr>\n",
       "      <th>R09269</th>\n",
       "      <td>NAACPHYD</td>\n",
       "    </tr>\n",
       "    <tr>\n",
       "      <th>R09307</th>\n",
       "      <td>CHIRAISO</td>\n",
       "    </tr>\n",
       "    <tr>\n",
       "      <th>R09312</th>\n",
       "      <td>ACTS17</td>\n",
       "    </tr>\n",
       "    <tr>\n",
       "      <th>R09313</th>\n",
       "      <td>ACTS18</td>\n",
       "    </tr>\n",
       "    <tr>\n",
       "      <th>R09314</th>\n",
       "      <td>ACTS16b</td>\n",
       "    </tr>\n",
       "    <tr>\n",
       "      <th>R09394</th>\n",
       "      <td>GTPCYC</td>\n",
       "    </tr>\n",
       "    <tr>\n",
       "      <th>R09396</th>\n",
       "      <td>4HXPUHBT</td>\n",
       "    </tr>\n",
       "    <tr>\n",
       "      <th>R09397</th>\n",
       "      <td>LPPGS</td>\n",
       "    </tr>\n",
       "    <tr>\n",
       "      <th>R09398</th>\n",
       "      <td>LPFPLT</td>\n",
       "    </tr>\n",
       "    <tr>\n",
       "      <th>R09399</th>\n",
       "      <td>GF4GL_0</td>\n",
       "    </tr>\n",
       "    <tr>\n",
       "      <th>R09400</th>\n",
       "      <td>GF4GL_1</td>\n",
       "    </tr>\n",
       "    <tr>\n",
       "      <th>R09514</th>\n",
       "      <td>URANOR</td>\n",
       "    </tr>\n",
       "    <tr>\n",
       "      <th>R10612</th>\n",
       "      <td>MLCOALH</td>\n",
       "    </tr>\n",
       "    <tr>\n",
       "      <th>R10619</th>\n",
       "      <td>GALM2</td>\n",
       "    </tr>\n",
       "    <tr>\n",
       "      <th>R10859</th>\n",
       "      <td>MECDPDH5_2</td>\n",
       "    </tr>\n",
       "    <tr>\n",
       "      <th>R10907</th>\n",
       "      <td>G6PDH1b</td>\n",
       "    </tr>\n",
       "    <tr>\n",
       "      <th>R11515</th>\n",
       "      <td>MACPAL</td>\n",
       "    </tr>\n",
       "    <tr>\n",
       "      <th>R11516</th>\n",
       "      <td>MALCOAMT</td>\n",
       "    </tr>\n",
       "  </tbody>\n",
       "</table>\n",
       "<p>176 rows × 1 columns</p>\n",
       "</div>"
      ],
      "text/plain": [
       "                  0\n",
       "101           G1PTT\n",
       "102         DTDPG4E\n",
       "104            GALT\n",
       "113     STACHGALACT\n",
       "121           GALM1\n",
       "123           S6PGB\n",
       "126            LYXE\n",
       "127           LYXID\n",
       "138           URIK2\n",
       "140          PYNP2r\n",
       "18              PPS\n",
       "181           ADPT2\n",
       "205            XPPT\n",
       "21             PPCK\n",
       "241             TDP\n",
       "25             PDH3\n",
       "292           SERAT\n",
       "297           GLUSy\n",
       "356          PPYRDC\n",
       "368           r0686\n",
       "376          MCSNAH\n",
       "384        ABPYRATA\n",
       "385           SSALx\n",
       "387           GCCcm\n",
       "388          GLYDHD\n",
       "389        MTAM_nh4\n",
       "391         PDHe3hr\n",
       "407       HBCO_nadp\n",
       "408         HBCOA3E\n",
       "412           VOR3b\n",
       "...             ...\n",
       "R05884        IDPS2\n",
       "R06601         HURH\n",
       "R06604        OHCUS\n",
       "R06643        PKBBS\n",
       "R07618      EN6LNOR\n",
       "R07772    CODSCL5DA\n",
       "R07773   CODSCL5BMT\n",
       "R08056       GLCRD2\n",
       "R08165     SEPHCHCS\n",
       "R08166      SHCHCS3\n",
       "R08689     MECDPDH4\n",
       "R08716      COBP3DH\n",
       "R09269     NAACPHYD\n",
       "R09307     CHIRAISO\n",
       "R09312       ACTS17\n",
       "R09313       ACTS18\n",
       "R09314      ACTS16b\n",
       "R09394       GTPCYC\n",
       "R09396     4HXPUHBT\n",
       "R09397        LPPGS\n",
       "R09398       LPFPLT\n",
       "R09399      GF4GL_0\n",
       "R09400      GF4GL_1\n",
       "R09514       URANOR\n",
       "R10612      MLCOALH\n",
       "R10619        GALM2\n",
       "R10859   MECDPDH5_2\n",
       "R10907      G6PDH1b\n",
       "R11515       MACPAL\n",
       "R11516     MALCOAMT\n",
       "\n",
       "[176 rows x 1 columns]"
      ]
     },
     "execution_count": 16,
     "metadata": {},
     "output_type": "execute_result"
    }
   ],
   "source": [
    "pd.DataFrame(r_dict, index = [0]).transpose()"
   ]
  },
  {
   "cell_type": "code",
   "execution_count": 151,
   "metadata": {},
   "outputs": [
    {
     "name": "stdout",
     "output_type": "stream",
     "text": [
      "6.0 ficytc_c + 2.0 h2o_c + nh4_c --> 6.0 focytc_c + 2.0 h_c + no2_c\n",
      "focytc_c Ferrocytochrome c C42H53FeN8O6S2\n",
      "no2_c Nitrite NO2\n",
      "h_c H+ H\n",
      "ficytc_c Ferricytochrome c C42H52FeN8O6S2\n",
      "h2o_c H2O H2O\n",
      "nh4_c Ammonium H4N\n",
      "Compartment:  c\n",
      "False\n"
     ]
    }
   ],
   "source": [
    "r = model.reactions.get_by_id(\"R05712\")\n",
    "\n",
    "\n",
    "\n",
    "print(r.build_reaction_string())\n",
    "for m in r.metabolites:\n",
    "    print(m.id, m.name, m.formula)\n",
    "print(\"Compartment: \", m.compartment)\n",
    "print(r.reversibility)\n",
    "\n",
    "# print(r.__dict__)"
   ]
  },
  {
   "cell_type": "code",
   "execution_count": 142,
   "metadata": {},
   "outputs": [
    {
     "name": "stdout",
     "output_type": "stream",
     "text": [
      "{'metanetx.chemical': 'MNXM874', 'chebi': '43206', 'kegg.compound': 'C01279'}\n",
      "HMP_e --> \n"
     ]
    },
    {
     "data": {
      "text/plain": [
       "{'e'}"
      ]
     },
     "execution_count": 142,
     "metadata": {},
     "output_type": "execute_result"
    }
   ],
   "source": [
    "m = model.metabolites.get_by_id(\"HMP_e\")\n",
    "print(m.annotation)\n",
    "print(r.build_reaction_string())\n",
    "r.compartments"
   ]
  },
  {
   "cell_type": "code",
   "execution_count": 6,
   "metadata": {},
   "outputs": [
    {
     "name": "stdout",
     "output_type": "stream",
     "text": [
      "IN FLUXES            OUT FLUXES          OBJECTIVES\n",
      "-------------------  ------------------  -------------------\n",
      "o2_e       1.74      h2o_e     3.6       Biomass_SCO  0.0754\n",
      "glc_D_e    0.8       co2_e     1.82\n",
      "nh4_e      0.67      h_e       0.617\n",
      "pi_e       0.0766    5drib_c   0.00384\n",
      "so4_e      0.0264    5mtr_e    0.00252\n",
      "k_e        0.014     amob_c    0.000629\n",
      "fe2_e      0.00535   4crsol_c  0.000363\n",
      "mg2_e      0.000622  dalua_c   9.7e-05\n",
      "ca2_e      0.000373\n",
      "cl_e       0.000373\n",
      "mobd_e     0.000274\n",
      "cobalt2_e  9.88e-05\n",
      "cu2_e      5.08e-05\n",
      "mn2_e      4.96e-05\n",
      "zn2_e      2.44e-05\n",
      "ni2_e      2.31e-05\n"
     ]
    }
   ],
   "source": [
    "model.optimize()\n",
    "model.summary()\n"
   ]
  },
  {
   "cell_type": "code",
   "execution_count": 20,
   "metadata": {},
   "outputs": [
    {
     "name": "stdout",
     "output_type": "stream",
     "text": [
      "{'formula': 'C5H5O4', 'compartment': 'c', '_bound': 0.0, '_model': <Model modelS at 0xf025ea6d68>, 'charge': None, 'notes': {}, '_reaction': {<Reaction DHDGLCD at 0xf0260de080>}, 'name': '2,5-Dioxopentanoate', '_constraint_sense': 'E', '_id': '25dptn_c', 'annotation': {'chebi': '58136', 'metanetx.chemical': 'MNXM770', 'kegg.compound': 'C00433'}}\n"
     ]
    }
   ],
   "source": [
    "m = model.metabolites.get_by_id(\"25dptn_c\")\n",
    "print(m.__dict__)"
   ]
  },
  {
   "cell_type": "code",
   "execution_count": 7,
   "metadata": {
    "collapsed": true
   },
   "outputs": [],
   "source": [
    "r = model.reactions.D_LACt2\n"
   ]
  },
  {
   "cell_type": "code",
   "execution_count": 13,
   "metadata": {},
   "outputs": [
    {
     "data": {
      "text/plain": [
       "'D_LACt2_reverse_d0dc8'"
      ]
     },
     "execution_count": 13,
     "metadata": {},
     "output_type": "execute_result"
    }
   ],
   "source": [
    "r.id = \"D_LACt2\"\n",
    "r.reverse_id\n",
    "\n"
   ]
  },
  {
   "cell_type": "code",
   "execution_count": 15,
   "metadata": {
    "collapsed": true
   },
   "outputs": [],
   "source": [
    "r.id\n",
    "model.repair()\n"
   ]
  },
  {
   "cell_type": "markdown",
   "metadata": {},
   "source": [
    "model.repair()\n"
   ]
  },
  {
   "cell_type": "code",
   "execution_count": 16,
   "metadata": {},
   "outputs": [
    {
     "ename": "AttributeError",
     "evalue": "'str' object has no attribute 'insert'",
     "output_type": "error",
     "traceback": [
      "\u001b[1;31m---------------------------------------------------------------------------\u001b[0m",
      "\u001b[1;31mAttributeError\u001b[0m                            Traceback (most recent call last)",
      "\u001b[1;32m<ipython-input-16-bcd0a1a8bffa>\u001b[0m in \u001b[0;36m<module>\u001b[1;34m()\u001b[0m\n\u001b[0;32m      1\u001b[0m \u001b[0ma\u001b[0m \u001b[1;33m=\u001b[0m \u001b[1;34m\"1234\"\u001b[0m\u001b[1;33m\u001b[0m\u001b[0m\n\u001b[1;32m----> 2\u001b[1;33m \u001b[0ma\u001b[0m\u001b[1;33m.\u001b[0m\u001b[0minsert\u001b[0m\u001b[1;33m(\u001b[0m\u001b[1;36m0\u001b[0m\u001b[1;33m,\u001b[0m \u001b[1;34m\"d\"\u001b[0m\u001b[1;33m)\u001b[0m\u001b[1;33m\u001b[0m\u001b[0m\n\u001b[0m",
      "\u001b[1;31mAttributeError\u001b[0m: 'str' object has no attribute 'insert'"
     ]
    }
   ],
   "source": [
    "a = \"1234\"\n",
    "a.insert(0, \"d\")\n"
   ]
  },
  {
   "cell_type": "code",
   "execution_count": 21,
   "metadata": {
    "collapsed": true
   },
   "outputs": [],
   "source": [
    "a = \"12341234\"\n",
    "b = a.rsplit(\"3\", 1)\n"
   ]
  },
  {
   "cell_type": "code",
   "execution_count": 23,
   "metadata": {},
   "outputs": [
    {
     "data": {
      "text/plain": [
       "'1234124'"
      ]
     },
     "execution_count": 23,
     "metadata": {},
     "output_type": "execute_result"
    }
   ],
   "source": [
    "\"\".join(b)"
   ]
  },
  {
   "cell_type": "code",
   "execution_count": 24,
   "metadata": {},
   "outputs": [
    {
     "data": {
      "text/plain": [
       "'1234124'"
      ]
     },
     "execution_count": 24,
     "metadata": {},
     "output_type": "execute_result"
    }
   ],
   "source": [
    "b[0]+b[1]"
   ]
  },
  {
   "cell_type": "code",
   "execution_count": 25,
   "metadata": {},
   "outputs": [
    {
     "data": {
      "text/plain": [
       "{<Metabolite lac_D_e at 0xcfb3c41c88>: -1.0,\n",
       " <Metabolite h_e at 0xcfb3b82390>: -1.0,\n",
       " <Metabolite lac_D_c at 0xcfbbc0b6a0>: 1.0,\n",
       " <Metabolite h_c at 0xcfbbc3add8>: 1.0}"
      ]
     },
     "execution_count": 25,
     "metadata": {},
     "output_type": "execute_result"
    }
   ],
   "source": [
    "r.metabolites\n"
   ]
  },
  {
   "cell_type": "code",
   "execution_count": 26,
   "metadata": {},
   "outputs": [
    {
     "data": {
      "text/plain": [
       "dict_keys([<Metabolite lac_D_e at 0xcfb3c41c88>, <Metabolite h_e at 0xcfb3b82390>, <Metabolite lac_D_c at 0xcfbbc0b6a0>, <Metabolite h_c at 0xcfbbc3add8>])"
      ]
     },
     "execution_count": 26,
     "metadata": {},
     "output_type": "execute_result"
    }
   ],
   "source": [
    "r.metabolites.keys()\n"
   ]
  },
  {
   "cell_type": "code",
   "execution_count": 28,
   "metadata": {},
   "outputs": [
    {
     "data": {
      "text/plain": [
       "['lac_D_e', 'h_e', 'lac_D_c', 'h_c']"
      ]
     },
     "execution_count": 28,
     "metadata": {},
     "output_type": "execute_result"
    }
   ],
   "source": [
    "[x.id for x in r.metabolites]"
   ]
  },
  {
   "cell_type": "code",
   "execution_count": 31,
   "metadata": {
    "collapsed": true
   },
   "outputs": [],
   "source": [
    "model.reactions.PHCHGS.id = \"PHCHGs\"\n"
   ]
  },
  {
   "cell_type": "code",
   "execution_count": 33,
   "metadata": {
    "collapsed": true
   },
   "outputs": [],
   "source": [
    "cobra.io.write_sbml_model(model, \"P://git/gem_sco/modelS.xml\")"
   ]
  },
  {
   "cell_type": "code",
   "execution_count": 40,
   "metadata": {},
   "outputs": [
    {
     "name": "stdout",
     "output_type": "stream",
     "text": [
      "m MCOATAm\n",
      "n ALAD_syn\n",
      "m ALATA_Lm\n",
      "m APAT2rm\n",
      "m ASPOm\n",
      "p ASPTAp\n",
      "m ALDD2xm\n",
      "x GLYCDx\n",
      "p GLYCTO1p\n",
      "m GLYKm\n",
      "r GNKr\n",
      "m LCADm\n",
      "y MALTly\n",
      "r TRSARr\n",
      "i XYLI2i\n",
      "p MALSp\n",
      "m ME1m\n",
      "m ME2m\n",
      "m PEPCKm\n",
      "m 4HGLSDm\n",
      "m ABTArm\n",
      "m ABUTDm\n",
      "m ACGKm\n",
      "m ACGSm\n",
      "m AGMTm\n",
      "m AGPRim\n",
      "r ARGDr\n",
      "m HCGALm\n",
      "s G5SADs\n",
      "m G5SDym\n",
      "m GLU5Km\n",
      "m OCTm\n",
      "m ORNTArm\n",
      "m ORNTACim\n",
      "m P5CDm\n",
      "y PRO1y\n",
      "m PHCDm\n",
      "m PROD2m\n",
      "t MUCCY_kt\n",
      "x HBNOx\n",
      "r IBTMr\n",
      "m MCOATAm\n",
      "r ALAALAr\n",
      "x PTE2x\n",
      "i GALUi\n",
      "i PGAMTi\n",
      "r TDPDRRr\n",
      "a ACONTa\n",
      "b ACONTb\n",
      "m AKGDm\n",
      "p CSp\n",
      "m FUMm\n",
      "r ICDHyr\n",
      "x MDHx\n",
      "m SUCOASm\n",
      "r AMAOTr\n",
      "m BACCLm\n",
      "m CBLATm\n",
      "m DHFRim\n",
      "r DHNPA2r\n",
      "m FOLD3m\n",
      "h GPPSh\n",
      "m DPCOAKm\n",
      "n PNORn\n",
      "m FCLTm\n",
      "m FMNATm\n",
      "x FMNRx\n",
      "m GLUTRSm\n",
      "x GRTTx\n",
      "p GTHRDHpp\n",
      "n GTPCIn\n",
      "x IPDDIx\n",
      "m NADKm\n",
      "n NADS1n\n",
      "n NMNATn\n",
      "m NNAMrm\n",
      "m NNDPRm\n",
      "m PBALm\n",
      "i PDX5POi\n",
      "m PPTTm\n",
      "m PNTKm\n",
      "m PTPATim\n",
      "m RBFKm\n",
      "a RBFSa\n",
      "n ADSKn\n",
      "e AMPTASECGe\n",
      "i SULRi\n",
      "m GCALDDm\n",
      "x MTHFCx\n",
      "m THFATm\n",
      "i GLUDxi\n",
      "m GLUDym\n",
      "p GLUNpp\n",
      "x GLUSx\n",
      "o CLS_cho\n",
      "o CLS_cho\n",
      "o CLS_cho\n",
      "o CLS_cho\n",
      "o CLS_cho\n",
      "o CLS_cho\n",
      "o CLS_cho\n",
      "o CLS_cho\n",
      "o CLS_cho\n",
      "o CLS_cho\n",
      "o CLS_cho\n",
      "o CLS_cho\n",
      "o CLS_cho\n",
      "o CLS_cho\n",
      "o CLS_cho\n",
      "o CLS_cho\n",
      "p GPDDA1pp\n",
      "p GPDDA1pp\n",
      "p GPDDA2pp\n",
      "p GPDDA2pp\n",
      "p GPDDA5pp\n",
      "p GPDDA5pp\n",
      "o CDIPTr_cho\n",
      "o CDIPTr_cho\n",
      "o CDIPTr_cho\n",
      "o CDIPTr_cho\n",
      "o CDIPTr_cho\n",
      "o CDIPTr_cho\n",
      "o CDIPTr_cho\n",
      "o CDIPTr_cho\n",
      "o CDIPTr_cho\n",
      "o CDIPTr_cho\n",
      "o CDIPTr_cho\n",
      "o CDIPTr_cho\n",
      "o CDIPTr_cho\n",
      "o CDIPTr_cho\n",
      "o CDIPTr_cho\n",
      "o CDIPTr_cho\n",
      "m GHMT2rm\n",
      "x GLYATx\n",
      "p PSP_Lpp\n",
      "m ENOm\n",
      "m GAPDHm\n",
      "i GLPThi\n",
      "m PDHm\n",
      "m PGKm\n",
      "m PGMm\n",
      "h PPDKh\n",
      "m PYKm\n",
      "h TPIh\n",
      "x FORAMDx\n",
      "h HPh\n",
      "r HSTPTr\n",
      "h IMGPSh\n",
      "h IGPDh\n",
      "i ACCOAhi\n",
      "m ACOAD1fm\n",
      "f ACOAD3f\n",
      "f ACOAD5f\n",
      "f ACOAD6f\n",
      "f ACOAD7f\n",
      "m ACOATAm\n",
      "m ECOAH2m\n",
      "m ECOAH3m\n",
      "p ECOAH4p\n",
      "p ECOAH5p\n",
      "p ECOAH6p\n",
      "p ECOAH7p\n",
      "m HBCOm\n",
      "m HACD2m\n",
      "m HACD3m\n",
      "p HACD4p\n",
      "p HACD5p\n",
      "p HACD6p\n",
      "p HACD7p\n",
      "m MCOATAm\n",
      "i AHCi\n",
      "p CYSTLp\n",
      "m METSm\n",
      "r MTHPTGHMr\n",
      "h SHSL1h\n",
      "r SHSL2r\n",
      "r SHSL4r\n",
      "x NODOx\n",
      "y NODOy\n",
      "p 23PDE4pp\n",
      "p 23PDE7pp\n",
      "p 23PDE9pp\n",
      "e ADAe\n",
      "h ATAMh\n",
      "n ADNK1n\n",
      "s ATPHs\n",
      "n CYTDn\n",
      "n CYTK1n\n",
      "n CYTK2n\n",
      "e DADAe\n",
      "n DCYTDn\n",
      "m DTMPKm\n",
      "m DURIK1m\n",
      "n DUTPDPn\n",
      "m GK1m\n",
      "n GUACn\n",
      "n NDPK1n\n",
      "n NDPK2n\n",
      "n NDPK3n\n",
      "n NDPK4n\n",
      "n NDPK5n\n",
      "n NDPK6n\n",
      "n NDPK7n\n",
      "n NDPK8n\n",
      "n NDPK9n\n",
      "r NNATr\n",
      "p NTD10pp\n",
      "p NTD11pp\n",
      "p NTD1pp\n",
      "p NTD2pp\n",
      "p NTD3pp\n",
      "p NTD4pp\n",
      "p NTD5pp\n",
      "p NTD6pp\n",
      "p NTD8pp\n",
      "p NTD9pp\n",
      "p NTP3pp\n",
      "g PDE1g\n",
      "g PDE4g\n",
      "m PUNP1m\n",
      "m PUNP3m\n",
      "n RNDR1n\n",
      "n RNDR2n\n",
      "n RNDR3n\n",
      "n RNDR4n\n",
      "m TMDK1m\n",
      "n UMPKn\n",
      "p XANDp\n",
      "x NTRIR2x\n",
      "m TRDRm\n",
      "i FBA3hi\n",
      "r G6PDH2r\n",
      "h PGDHh\n",
      "h PGLh\n",
      "h RPEh\n",
      "m MMEm\n",
      "m MMMm\n",
      "m MMSAD3m\n",
      "m PPCOACm\n",
      "r ADSL1r\n",
      "h ADSSh\n",
      "n ASPCTn\n",
      "h PRDPARh\n",
      "m GMPS_glu_m\n",
      "m IMPDm\n",
      "r PRAGSr\n",
      "m ACKrm\n",
      "p ACSp\n",
      "x ALCD2x\n",
      "i ALCDH_nadp_hi\n",
      "m LDHm\n",
      "m PCm\n",
      "m PTArm\n",
      "m 2OXOADOXm\n",
      "s AOBUTDxs\n",
      "i ASADi\n",
      "x ECOAH1x\n",
      "m GLUTCOADHm\n",
      "i HSDyi\n",
      "i SDPTAi\n",
      "i THRA2i\n",
      "i THRAi\n",
      "m ARGTRSm\n",
      "m ASNTRSm\n",
      "m ASPTRSm\n",
      "m FMETTRSm\n",
      "m HISTRSm\n",
      "m ILETRSm\n",
      "m LEUTRSm\n",
      "m LYSTRSm\n",
      "m METTRSm\n",
      "m PHETRSm\n",
      "m THRTRSm\n",
      "m TRPTRSm\n",
      "m TYRTRSm\n",
      "m VALTRSm\n",
      "p PEAMNOpp\n",
      "m POATm\n",
      "i PRAIi\n",
      "h TRPS2h\n",
      "p TYRTAp\n",
      "s ACONIs\n",
      "m BETALDHxm\n",
      "y BETALDHy\n",
      "p CATp\n",
      "m GTHPm\n",
      "n HCO3En\n",
      "l PRDXl\n",
      "x SPODMx\n",
      "m MCOATAm\n",
      "m MCOATAm\n",
      "m ACHBSm\n",
      "h PPATDh\n",
      "i MBCOAi\n",
      "h DHAD_3mob_h\n",
      "h DHADh\n",
      "m ECOAH12m\n",
      "m ECOAH9m\n",
      "m HACD9m\n",
      "m ILETAm\n",
      "a IPPMIa\n",
      "b IPPMIb\n",
      "m IPPSm\n",
      "m KARA1im\n",
      "m LEUTAm\n",
      "m OCOAT1m\n",
      "r OIVD1r\n",
      "m OIVD2m\n",
      "m OMCDCm\n",
      "m THRD_Lm\n",
      "r VALDHr\n",
      "m VALTAim\n",
      "r PYNP2r\n",
      "m TDPm\n",
      "y GLUSy\n",
      "h SSNOh\n",
      "m GCCcm\n",
      "r PDHe3hr\n",
      "r NADH2r\n",
      "m G3PDm\n",
      "m PPCOAOm\n",
      "x PRPNCOAHYDx\n",
      "n NOR_syn\n",
      "y NTRIR2y\n",
      "m ALASm\n",
      "m GMPSm\n",
      "n SULR_syn\n",
      "n SADTn\n",
      "r GALKr\n",
      "i HSDxi\n",
      "b KARI_23dhmb\n",
      "a KARI_3hmoa\n",
      "p KARI_23dhmp\n",
      "m FBAm\n",
      "h BFBPh\n",
      "h TAh\n",
      "h TKT2h\n",
      "h G6PBDHh\n",
      "h G6PIh\n",
      "h PGIAh\n"
     ]
    }
   ],
   "source": [
    "# Check annotations\n",
    "import re\n",
    "for r in model.reactions:\n",
    "    try:\n",
    "        bigg_id = r.annotation[\"bigg.reaction\"]\n",
    "    except:\n",
    "        pass\n",
    "    else:\n",
    "        m = re.search(\"[a-z]$\", bigg_id)\n",
    "        if m:\n",
    "            print(m.group(0), bigg_id)"
   ]
  },
  {
   "cell_type": "code",
   "execution_count": 48,
   "metadata": {},
   "outputs": [
    {
     "data": {
      "text/plain": [
       "[2, 3, 1, 2, 1]"
      ]
     },
     "execution_count": 48,
     "metadata": {},
     "output_type": "execute_result"
    }
   ],
   "source": [
    "import pandas as pd\n",
    "a = [1,2,3, 1,2,1]\n",
    "df = pd.Series(a)\n",
    "df.tolist().index(1)\n",
    "a.pop(a.index(1))\n",
    "a"
   ]
  },
  {
   "cell_type": "code",
   "execution_count": 49,
   "metadata": {},
   "outputs": [
    {
     "data": {
      "text/plain": [
       "2"
      ]
     },
     "execution_count": 49,
     "metadata": {},
     "output_type": "execute_result"
    }
   ],
   "source": [
    "a.index(1)"
   ]
  },
  {
   "cell_type": "code",
   "execution_count": 50,
   "metadata": {},
   "outputs": [
    {
     "data": {
      "text/plain": [
       "{'_compartments': None,\n",
       " '_forward_variable': 0 <= PHCHGs <= 1000.0,\n",
       " '_gene_reaction_rule': 's0001',\n",
       " '_genes': {<Gene s0001 at 0xcfc6187748>},\n",
       " '_id': 'PHCHGs',\n",
       " '_lower_bound': -1000.0,\n",
       " '_metabolites': {<Metabolite h2o_c at 0xcfc62ddb00>: -1.0,\n",
       "  <Metabolite 4hglusa_c at 0xcfc6016f28>: 1.0,\n",
       "  <Metabolite 1p3h5c_c at 0xcfc60206d8>: -1.0,\n",
       "  <Metabolite h_c at 0xcfc62dd5f8>: -1.0},\n",
       " '_model': <Model modelS at 0xcfb3d99978>,\n",
       " '_reverse_variable': 0 <= PHCHGs_reverse_70dd4 <= 1000.0,\n",
       " '_upper_bound': 1000.0,\n",
       " 'annotation': {'SUBSYSTEM': 'Arginine and Proline Metabolism',\n",
       "  'bigg.reaction': 'PHCHGS',\n",
       "  'ec-code': '',\n",
       "  'kegg.reaction': 'R04443',\n",
       "  'metanetx.reaction': 'MNXR102617',\n",
       "  'seed.reaction': 'rxn03070'},\n",
       " 'name': 'L-1-Pyrroline-3-hydroxy-5-carboxylate spontaneous conversion to L-4-Hydroxyglutamate semialdehyde',\n",
       " 'notes': {},\n",
       " 'subsystem': '',\n",
       " 'variable_kind': 'continuous'}"
      ]
     },
     "execution_count": 50,
     "metadata": {},
     "output_type": "execute_result"
    }
   ],
   "source": [
    "model.reactions.PHCHGs.__dict__\n",
    "\n"
   ]
  },
  {
   "cell_type": "code",
   "execution_count": 51,
   "metadata": {},
   "outputs": [
    {
     "data": {
      "text/plain": [
       "True"
      ]
     },
     "execution_count": 51,
     "metadata": {},
     "output_type": "execute_result"
    }
   ],
   "source": [
    "\"s\" in \"stfp\"\n"
   ]
  },
  {
   "cell_type": "code",
   "execution_count": 52,
   "metadata": {},
   "outputs": [
    {
     "data": {
      "text/plain": [
       "[2, 3, 1, 2, 1]"
      ]
     },
     "execution_count": 52,
     "metadata": {},
     "output_type": "execute_result"
    }
   ],
   "source": [
    "a"
   ]
  },
  {
   "cell_type": "code",
   "execution_count": 53,
   "metadata": {},
   "outputs": [
    {
     "data": {
      "text/plain": [
       "[2, 3, 1, 2]"
      ]
     },
     "execution_count": 53,
     "metadata": {},
     "output_type": "execute_result"
    }
   ],
   "source": [
    "a[:-1]\n"
   ]
  },
  {
   "cell_type": "code",
   "execution_count": null,
   "metadata": {
    "collapsed": true
   },
   "outputs": [],
   "source": []
  }
 ],
 "metadata": {
  "anaconda-cloud": {},
  "kernelspec": {
   "display_name": "Python [conda root]",
   "language": "python",
   "name": "conda-root-py"
  }
 },
 "nbformat": 4,
 "nbformat_minor": 2
}
