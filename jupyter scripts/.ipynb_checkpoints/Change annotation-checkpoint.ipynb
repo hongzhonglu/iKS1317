{
 "cells": [
  {
   "cell_type": "code",
   "execution_count": 50,
   "metadata": {
    "collapsed": true
   },
   "outputs": [],
   "source": [
    "# Import packages\n",
    "import cobra\n",
    "# Load model\n",
    "model_path = \"P://git/gem_sco/modelS.xml\"\n",
    "model = cobra.io.read_sbml_model(model_path)\n"
   ]
  },
  {
   "cell_type": "code",
   "execution_count": 9,
   "metadata": {},
   "outputs": [
    {
     "name": "stdout",
     "output_type": "stream",
     "text": [
      "Changed annotation of 1187 reactions\n"
     ]
    }
   ],
   "source": [
    "# Map KEGG reactions\n",
    "i = 0\n",
    "for r in model.reactions:\n",
    "    try:\n",
    "        r.annotation[\"kegg.reaction\"] = r.annotation.pop(\"KEGG\")\n",
    "        i+= 1\n",
    "    except KeyError:\n",
    "        continue\n",
    "\n",
    "print(\"Changed annotation of {0} reactions\".format(i))\n",
    "    "
   ]
  },
  {
   "cell_type": "code",
   "execution_count": 11,
   "metadata": {},
   "outputs": [
    {
     "name": "stdout",
     "output_type": "stream",
     "text": [
      "Changed annotation of 1549 metabolites\n"
     ]
    }
   ],
   "source": [
    "# Map KEGG compounds\n",
    "i = 0\n",
    "for m in model.metabolites:\n",
    "    try:\n",
    "        m.annotation[\"kegg.compound\"] = m.annotation.pop(\"KEGG\")\n",
    "        i+= 1\n",
    "    except KeyError:\n",
    "        continue\n",
    "\n",
    "print(\"Changed annotation of {0} metabolites\".format(i))"
   ]
  },
  {
   "cell_type": "code",
   "execution_count": 35,
   "metadata": {
    "collapsed": true
   },
   "outputs": [],
   "source": [
    "# Save model\n",
    "cobra.io.write_sbml_model(model, model_path, use_fbc_package = True)\n"
   ]
  },
  {
   "cell_type": "code",
   "execution_count": 2,
   "metadata": {},
   "outputs": [
    {
     "name": "stdout",
     "output_type": "stream",
     "text": [
      "Changed annotation of 2087 reactions\n"
     ]
    }
   ],
   "source": [
    "# Change annotation of EC number of reactions\n",
    "# Map KEGG reactions\n",
    "i = 0\n",
    "for r in model.reactions:\n",
    "    try:\n",
    "        r.annotation[\"ec-code\"] = r.annotation.pop(\"EC NUMBER\")\n",
    "        i+= 1\n",
    "    except KeyError:\n",
    "        continue\n",
    "\n",
    "print(\"Changed annotation of {0} reactions\".format(i))"
   ]
  },
  {
   "cell_type": "code",
   "execution_count": 37,
   "metadata": {},
   "outputs": [
    {
     "name": "stdout",
     "output_type": "stream",
     "text": [
      "Changed 0, 0 reaction annotations\n"
     ]
    }
   ],
   "source": [
    "# Change BiGG annotations, annotated to mitocondrial reactions\n",
    "import re\n",
    "i = 0\n",
    "j = 0\n",
    "for r in model.reactions:\n",
    "    try:\n",
    "        bigg_id = r.annotation[\"bigg.reaction\"]\n",
    "    except:\n",
    "        pass\n",
    "    else:\n",
    "        if bigg_id == r.id:\n",
    "           continue\n",
    "            \n",
    "        if bigg_id[:-1]==r.id:\n",
    "            if bigg_id[-1] in \"plmxnhgv\":\n",
    "                r.annotation[\"bigg.reaction\"] = bigg_id[:-1]\n",
    "                print(bigg_id)\n",
    "                j += 1\n",
    "        \n",
    "        else:    \n",
    "            match = re.search(\"[A-Z][a-z]$\", bigg_id)\n",
    "            if match:\n",
    "                if bigg_id[-1] in \"plmxnhgv\":\n",
    "                    r.annotation[\"bigg.reaction\"] = bigg_id[:-1]\n",
    "                    print(bigg_id)\n",
    "                    i+= 1\n",
    "print(\"Changed {0}, {1} reaction annotations\".format(i, j))"
   ]
  },
  {
   "cell_type": "code",
   "execution_count": 7,
   "metadata": {
    "collapsed": true
   },
   "outputs": [],
   "source": [
    "# Remove SEED annotaion from reactions\n",
    "for r in model.reactions:\n",
    "    r.annotation.pop(\"seed.reaction\", None)"
   ]
  },
  {
   "cell_type": "code",
   "execution_count": 38,
   "metadata": {
    "collapsed": true
   },
   "outputs": [],
   "source": [
    "for m in model.metabolites:\n",
    "    try:\n",
    "        bigg_id = m.annotation[\"bigg.metabolite\"]\n",
    "    except KeyError:\n",
    "        continue\n",
    "    else:\n",
    "        if bigg_id == m.id:\n",
    "            continue\n",
    "        if bigg_id[-1] in \"plmxnhgv\":\n",
    "            print(bigg_id)"
   ]
  },
  {
   "cell_type": "code",
   "execution_count": 3,
   "metadata": {},
   "outputs": [
    {
     "name": "stdout",
     "output_type": "stream",
     "text": [
      "298 1051 220 2090\n"
     ]
    }
   ],
   "source": [
    "i = 0\n",
    "j = 0\n",
    "k = 0\n",
    "for r in model.reactions:\n",
    "    try:\n",
    "        a = r.annotation[\"bigg.reaction\"]\n",
    "    except:\n",
    "        a = None\n",
    "    \n",
    "    try:\n",
    "        b = r.annotation[\"metanetx.reaction\"]\n",
    "    except:\n",
    "        b = None\n",
    "    \n",
    "    if a and b:\n",
    "        i += 1\n",
    "    elif a:\n",
    "        j += 1\n",
    "    elif b:\n",
    "        k += 1\n",
    "    else:\n",
    "        pass\n",
    "        \n",
    "print(i,j,k, len(model.reactions))"
   ]
  },
  {
   "cell_type": "code",
   "execution_count": 51,
   "metadata": {},
   "outputs": [
    {
     "name": "stdout",
     "output_type": "stream",
     "text": [
      "R00264 {'SUBSYSTEM': 'Ascorbate and aldarate metabolism or Pentose and glucuronate interconversions', 'EC NUMBER': '1.2.1.3', 'KEGG': 'R00264'}\n",
      "R01087 {'SUBSYSTEM': 'Nicotinate and nicotinamide metabolism or Microbial metabolism in diverse environments or Butanoate metabolism', 'EC NUMBER': '5.2.1.1', 'KEGG': 'R01087'}\n",
      "R03106 {'SUBSYSTEM': '', 'EC NUMBER': '2.8.1.2', 'KEGG': 'R03106'}\n",
      "R03105 {'SUBSYSTEM': 'Metabolic pathways or Cysteine and methionine metabolism', 'EC NUMBER': '2.8.1.2', 'KEGG': 'R03105'}\n",
      "R04103 {'SUBSYSTEM': '', 'EC NUMBER': '3.5.1.11', 'KEGG': 'R04103'}\n",
      "R08056 {'SUBSYSTEM': 'Ascorbate and aldarate metabolism', 'EC NUMBER': '4.2.1.40', 'KEGG': 'R08056'}\n",
      "R10619 {'SUBSYSTEM': 'Metabolic pathways or Galactose metabolism', 'EC NUMBER': '5.1.3.3', 'KEGG': 'R10619'}\n",
      "[]\n"
     ]
    }
   ],
   "source": [
    "bigg_annotations = []\n",
    "for r in model.reactions:\n",
    "    try:\n",
    "        bigg_annotations.append(r.annotation[\"bigg.reaction\"])\n",
    "    except:\n",
    "        print(r.id, r.annotation)\n",
    "\n",
    "duplicates = []\n",
    "non_duplicates = []\n",
    "for bid in bigg_annotations:\n",
    "    if bid in non_duplicates:\n",
    "        duplicates.append(bid)\n",
    "    else:\n",
    "        non_duplicates.append(bid)\n",
    "print(duplicates)"
   ]
  },
  {
   "cell_type": "code",
   "execution_count": 34,
   "metadata": {
    "collapsed": true
   },
   "outputs": [],
   "source": [
    "model.reactions.PPA.annotation[\"bigg.reaction\"] = \"PPA\"\n",
    "model.reactions.PPA_1.annotation[\"bigg.reaction\"] = \"PPA_1\"\n",
    "\n",
    "model.reactions.get_by_id(\"R10619\").annotation[\"bigg.reaction\"] = \"GALM2\"\n",
    "model.reactions.get_by_id(\"R00624\").annotation[\"bigg.reaction\"] = \"DIOP5OR\"\n",
    "model.reactions.get_by_id(\"R01087\").annotation[\"bigg.reaction\"] = \"MALEI\"\n",
    "model.reactions.get_by_id(\"R03106\").annotation[\"bigg.reaction\"] = \"MCPST\"\n",
    "model.reactions.get_by_id(\"R03105\").annotation[\"bigg.reaction\"] = \"MCPST2\"\n",
    "model.reactions.get_by_id(\"R04103\").annotation[\"bigg.reaction\"] = \"PENAM\"\n",
    "model.reactions.get_by_id(\"R08056\").annotation[\"bigg.reaction\"] = \"GLCRD2\"\n",
    "\n",
    "\n",
    "\n",
    "\n",
    "\n",
    "\n"
   ]
  },
  {
   "cell_type": "code",
   "execution_count": 44,
   "metadata": {},
   "outputs": [],
   "source": [
    "\n",
    "model.reactions.Biomass_SCO.annotation[\"bigg.reaction\"] = \"BIOMASS_SCO\"\n",
    "model.reactions.ATPS4r.annotation[\"bigg.reaction\"] = \"ATPS4r\"\n",
    "model.reactions.ATPM.annotation[\"bigg.reaction\"] = \"ATPM\"\n",
    "model.reactions.THD2.annotation[\"bigg.reaction\"] = \"THD2\"\n",
    "model.reactions.NADTRHD.annotation[\"bigg.reaction\"] = \"NADTRHD\"\n",
    "model.reactions.CSNt2r.annotation[\"bigg.reaction\"] = \"CSNt2r\"\n",
    "model.reactions.get_by_id(\"561\").annotation[\"bigg.reaction\"] = \"PDH4\"\n",
    "model.reactions.get_by_id(\"646\").annotation[\"bigg.reaction\"] = \"UPPDC2\"\n",
    "model.reactions.GLYin.annotation[\"bigg.reaction\"] = \"GLYabc\"\n",
    "model.reactions.get_by_id(\"R01070\").annotation[\"bigg.reaction\"] = \"FBA_1\"\n",
    "\n"
   ]
  },
  {
   "cell_type": "code",
   "execution_count": null,
   "metadata": {
    "collapsed": true
   },
   "outputs": [],
   "source": []
  },
  {
   "cell_type": "code",
   "execution_count": 36,
   "metadata": {},
   "outputs": [],
   "source": [
    "# Change annotations\n",
    "\n",
    "for r in model.reactions:\n",
    "    if (r.id[:4] == \"ACTS\") and (r.id != r.annotation[\"bigg.reaction\"]):\n",
    "        r.annotation[\"bigg.reaction\"] = r.id\n",
    "        print(r.annotation[\"bigg.reaction\"], r.id)\n",
    "    \n",
    "    if (r.id[:3] == \"CDA\") and (r.annotation[\"bigg.reaction\"][:3] != \"CDA\"):\n",
    "        r.annotation[\"bigg.reaction\"] = r.id\n",
    "        print(r.annotation[\"bigg.reaction\"], r.id)\n",
    "    \n",
    "    if (r.id[:3] == \"RED\") and (r.annotation[\"bigg.reaction\"][:3] != \"RED\"):\n",
    "        r.annotation[\"bigg.reaction\"] = r.id\n",
    "        print(r.annotation[\"bigg.reaction\"], r.id)\n",
    "        \n",
    "    if (r.id[:7] == \"CLPNSII\") and r.annotation[\"bigg.reaction\"] != r.id:\n",
    "        r.annotation[\"bigg.reaction\"] = r.id\n",
    "        print(r.annotation[\"bigg.reaction\"], r.id)\n",
    "        \n",
    "    if (r.id[:5] == \"GPDDA\") and r.annotation[\"bigg.reaction\"] != r.id:\n",
    "        r.annotation[\"bigg.reaction\"] = r.id\n",
    "        print(r.annotation[\"bigg.reaction\"], r.id)\n",
    "        \n",
    "    if (r.id[:5] == \"PINOS\") and r.annotation[\"bigg.reaction\"] != r.id:\n",
    "        r.annotation[\"bigg.reaction\"] = r.id\n",
    "        print(r.annotation[\"bigg.reaction\"], r.id)"
   ]
  },
  {
   "cell_type": "code",
   "execution_count": 46,
   "metadata": {
    "collapsed": true
   },
   "outputs": [],
   "source": [
    "cobra.io.write_sbml_model(model, model_path)"
   ]
  }
 ],
 "metadata": {
  "anaconda-cloud": {},
  "kernelspec": {
   "display_name": "Python [default]",
   "language": "python",
   "name": "python3"
  },
  "language_info": {
   "codemirror_mode": {
    "name": "ipython",
    "version": 3
   },
   "file_extension": ".py",
   "mimetype": "text/x-python",
   "name": "python",
   "nbconvert_exporter": "python",
   "pygments_lexer": "ipython3",
   "version": "3.5.2"
  }
 },
 "nbformat": 4,
 "nbformat_minor": 2
}
