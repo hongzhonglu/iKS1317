{
 "cells": [
  {
   "cell_type": "code",
   "execution_count": 5,
   "metadata": {
    "collapsed": true
   },
   "outputs": [],
   "source": [
    "import pythoncyc\n"
   ]
  },
  {
   "cell_type": "code",
   "execution_count": 14,
   "metadata": {},
   "outputs": [],
   "source": [
    "pgdb = pythoncyc.PGDB(\"sco\")#genes_of_reaction(\"RXN1A0-6128\")"
   ]
  },
  {
   "cell_type": "code",
   "execution_count": 17,
   "metadata": {},
   "outputs": [
    {
     "data": {
      "text/plain": [
       "[u'|SCP1.233B|']"
      ]
     },
     "execution_count": 17,
     "metadata": {},
     "output_type": "execute_result"
    }
   ],
   "source": [
    "pgdb.genes_of_reaction(\"RXN1A0-6128\")\n",
    "#pgdb.enzymes_of_reaction(\"RXN1A0-6128\")\n",
    "#pgdb.substrates_of_reaction(\"RXN1A0-6128\")"
   ]
  },
  {
   "cell_type": "code",
   "execution_count": 6,
   "metadata": {},
   "outputs": [],
   "source": [
    "meta = pythoncyc.select_organism('sco')"
   ]
  },
  {
   "cell_type": "code",
   "execution_count": 13,
   "metadata": {},
   "outputs": [
    {
     "name": "stdout",
     "output_type": "stream",
     "text": [
      "<PGDB sco, currently has 0 PFrames>\n"
     ]
    }
   ],
   "source": [
    "print(meta)"
   ]
  },
  {
   "cell_type": "code",
   "execution_count": 14,
   "metadata": {},
   "outputs": [
    {
     "data": {
      "text/plain": [
       "[u'|PWY-7219|',\n",
       " u'|PWY0-1303|',\n",
       " u'|PROTOCATECHUATE-ORTHO-CLEAVAGE-PWY-1|',\n",
       " u'|GLUTFUMARATE-PWY|',\n",
       " u'|PWY-7222|',\n",
       " u'|PWY-40|',\n",
       " u'|PWY-7221|',\n",
       " u'|LACTOSEUTIL-PWY|',\n",
       " u'|GLYCOLYSIS-E-D|',\n",
       " u'|SHIKIMATEDEG-PWY|',\n",
       " u'|PPGPPMET-PWY|',\n",
       " u'|PWY-6126|',\n",
       " u'|PROTOCATECHUATE-ORTHO-CLEAVAGE-PWY|',\n",
       " u'|GLYCOCAT-PWY|',\n",
       " u'|URDEGR-PWY|',\n",
       " u'|PWY-6125|',\n",
       " u'|PWY-5667|',\n",
       " u'|PWY-2361|',\n",
       " u'|PWY-6123|',\n",
       " u'|PWY4FS-8|',\n",
       " u'|P122-PWY|',\n",
       " u'|PWY-6122|',\n",
       " u'|4AMINOBUTMETAB-PWY|',\n",
       " u'|DENOVOPURINE2-PWY|',\n",
       " u'|P321-PWY|',\n",
       " u'|P202-PWY|',\n",
       " u'|PWY1UA-2|',\n",
       " u'|PWY-1723|',\n",
       " u'|GLUTSYN-PWY|',\n",
       " u'|PWY0-1319|',\n",
       " u'|FAO-PWY-1|',\n",
       " u'|PWY0-1315|',\n",
       " u'|PWY0-1317|',\n",
       " u'|PWY4FS-7|',\n",
       " u'|CYSTEINE-DEG-PWY|',\n",
       " u'|GALACTITOLCAT-PWY|',\n",
       " u'|CATECHOL-ORTHO-CLEAVAGE-PWY|',\n",
       " u'|RUMP-PWY|',\n",
       " u'|PROPIONMET-PWY|',\n",
       " u'|METHIONINE-DEG1-PWY|',\n",
       " u'|PWY-841|',\n",
       " u'|VALSYN-PWY|',\n",
       " u'|ASPARTATESYN-PWY|',\n",
       " u'|PROSYN-PWY|',\n",
       " u'|PWY1UA-1793|',\n",
       " u'|P4-PWY|',\n",
       " u'|P461-PWY|',\n",
       " u'|PWY0-181|',\n",
       " u'|GLYCOLYSIS-1|',\n",
       " u'|P124-PWY|',\n",
       " u'|PWY-5340|',\n",
       " u'|PWY4FS-6|',\n",
       " u'|PWY-2503|',\n",
       " u'|PWY-3781|',\n",
       " u'|PWY0-522|',\n",
       " u'|SER-GLYSYN-PWY|',\n",
       " u'|FUC-RHAMCAT-PWY|',\n",
       " u'|GLNSYN-PWY|',\n",
       " u'|SO4ASSIM-PWY|',\n",
       " u'|PWY-5669|',\n",
       " u'|THIOREDOX-PWY|',\n",
       " u'|COBALSYN-PWY|',\n",
       " u'|ANARESP1-PWY|',\n",
       " u'|PWY0-901|',\n",
       " u'|SERSYN-PWY|',\n",
       " u'|PWY-3001|',\n",
       " u'|SERDEG-PWY|',\n",
       " u'|KDO-PEP-LIPASYN-PWY|',\n",
       " u'|QUINATEDEG-PWY|',\n",
       " u'|PWY-1881|',\n",
       " u'|PWY-3661|',\n",
       " u'|ILEUSYN-PWY|',\n",
       " u'|PWY0-1312|',\n",
       " u'|GLUCARDEG-PWY|',\n",
       " u'|PWY3O-450|',\n",
       " u'|PHENYLALANINE-DEG1-PWY|',\n",
       " u'|PWY1A0-6120|',\n",
       " u'|PWY0-162-1|',\n",
       " u'|ARO-PWY|',\n",
       " u'|PWY0-1313|',\n",
       " u'|NONMEVIPP-PWY|',\n",
       " u'|CYSTEINE-SYN2-PWY|',\n",
       " u'|PWY-5437|',\n",
       " u'|BETSYN-PWY|',\n",
       " u'|HEXITOLDEGSUPER-PWY|',\n",
       " u'|PWY-5944|',\n",
       " u'|P562-PWY|',\n",
       " u'|P164-PWY|',\n",
       " u'|AMMASSIM-PWY|',\n",
       " u'|ALLANTOINDEG-PWY|',\n",
       " u'|CODH-PWY|',\n",
       " u'|TEICHOICACID-PWY|',\n",
       " u'|PWY4FS-2|',\n",
       " u'|PWY-5480|',\n",
       " u'|ALANINE-VALINESYN-PWY|',\n",
       " u'|ANAGLYCOLYSIS-PWY|',\n",
       " u'|PWY-5485|',\n",
       " u'|LACTOSECAT-PWY|',\n",
       " u'|PWY-6537|',\n",
       " u'|PWY-5481|',\n",
       " u'|PWY-2723|',\n",
       " u'|ILEUDEG-PWY-1|',\n",
       " u'|1CMET2-PWY|',\n",
       " u'|PWY-5484|',\n",
       " u'|OANTIGEN-PWY|',\n",
       " u'|HOMOSER-METSYN-PWY|',\n",
       " u'|PWY-6535|',\n",
       " u'|PEPTIDOGLYCANSYN-PWY|',\n",
       " u'|PWY0-321|',\n",
       " u'|GLUCOSE1PMETAB-PWY|',\n",
       " u'|GLYCOLYSIS|',\n",
       " u'|P185-PWY|',\n",
       " u'|PWY-3982|',\n",
       " u'|PWY-5704|',\n",
       " u'|GLYOXYLATE-BYPASS|',\n",
       " u'|PWY4FS-3|',\n",
       " u'|MANNCAT-PWY|',\n",
       " u'|DTDPRHAMSYN-PWY|',\n",
       " u'|GLUTSYNIII-PWY|',\n",
       " u'|POLYISOPRENSYN-PWY|',\n",
       " u'|ORNDEG-PWY|',\n",
       " u'|FASYN-ELONG-PWY-1|',\n",
       " u'|PWY-5698|',\n",
       " u'|PWY-5136|',\n",
       " u'|PWY4FS-4|',\n",
       " u'|PWY1UA-7603|',\n",
       " u'|PWY-2161B|',\n",
       " u'|PWY-5703|',\n",
       " u'|BRANCHED-CHAIN-AA+ALA-PWY|',\n",
       " u'|PWY0-1545|',\n",
       " u'|P381-PWY|',\n",
       " u'|PWY-7309|',\n",
       " u'|PWY-5668|',\n",
       " u'|PWY-5177-1|',\n",
       " u'|PWY-922|',\n",
       " u'|ORNSPNANA-PWY|',\n",
       " u'|SUCSYN-PWY|',\n",
       " u'|NADPHOS-DEPHOS-PWY|',\n",
       " u'|PWY-6475|',\n",
       " u'|HISDEG-PWY|',\n",
       " u'|PWY-7308|',\n",
       " u'|SUCUTIL-PWY|',\n",
       " u'|PWY-1722|',\n",
       " u'|PWY-3981|',\n",
       " u'|TRIGLSYN-PWY|',\n",
       " u'|PWY-5947|',\n",
       " u'|PWY-3722|',\n",
       " u'|CHOLINE-BETAINE-ANA-PWY|',\n",
       " u'|PWY-5946|',\n",
       " u'|PWY-3742|',\n",
       " u'|CENTBENZCOA-PWY|',\n",
       " u'|PWY1UA-5|',\n",
       " u'|TRNA-CHARGING-PWY|',\n",
       " u'|PARATHION-CATABOLISM-PWY|',\n",
       " u'|ANAEROFRUCAT-PWY|',\n",
       " u'|PWY-5943|',\n",
       " u'|PWY-5041|',\n",
       " u'|P61-PWY|',\n",
       " u'|TREHALOSESYN-PWY|',\n",
       " u'|RIBOSYN2-PWY|',\n",
       " u'|PWY-3602|',\n",
       " u'|PWY-802|',\n",
       " u'|MANNIDEG-PWY|',\n",
       " u'|FOLSYN-PWY|',\n",
       " u'|P108-PWY|',\n",
       " u'|PWY-3841|',\n",
       " u'|BIOTIN-SYNTHESIS-PWY|',\n",
       " u'|GALLATE-DEGRADATION-I-PWY|',\n",
       " u'|PUTDEG-PWY|',\n",
       " u'|KDOSYN-PWY|',\n",
       " u'|KDO-NAGLIPASYN-PWY|',\n",
       " u'|MANGDPMET-PWY|',\n",
       " u'|PWY1UA-16|',\n",
       " u'|PWY0-662|',\n",
       " u'|PWY-21|',\n",
       " u'|PWY-5945|',\n",
       " u'|PWY-2301|',\n",
       " u'|PWY-6387|',\n",
       " u'|PEP-LIPA-SYN-PWY|',\n",
       " u'|PYRUVDEHYD-PWY|',\n",
       " u'|PWY1UA-14|',\n",
       " u'|BSUBPHENYLSYN-PWY|',\n",
       " u'|GLUTAMINEFUM-PWY|',\n",
       " u'|P3-PWY|',\n",
       " u'|BETA-ALA-DEGRADATION-I-PWY|',\n",
       " u'|PWY-5783|',\n",
       " u'|PWY1UA-3655|',\n",
       " u'|BSUBPOLYAMSYN-PWY|',\n",
       " u'|PWY-1622|',\n",
       " u'|PWY-6708|',\n",
       " u'|PWY0-1221|',\n",
       " u'|LCTACACAT-PWY|',\n",
       " u'|P101-PWY|',\n",
       " u'|PWY0-1324|',\n",
       " u'|PWY-3921|',\n",
       " u'|PWY-6012|',\n",
       " u'|GLYCCAT-PWY|',\n",
       " u'|PWY-2161|',\n",
       " u'|DENITRIFICATION-PWY|',\n",
       " u'|ILE-VAL-PWY|',\n",
       " u'|ASPBIO-PWY|',\n",
       " u'|RHAMCAT-PWY|',\n",
       " u'|PWY1UA-5652|',\n",
       " u'|ENTNER-DOUDOROFF-PWY|',\n",
       " u'|PWY-741|',\n",
       " u'|PWY-622|',\n",
       " u'|PWY1UA-19|',\n",
       " u'|NAGLIPASYN-PWY|',\n",
       " u'|PWY0-166|',\n",
       " u'|PWY-3941|',\n",
       " u'|GLUAMCAT-PWY|',\n",
       " u'|PWY-2504|',\n",
       " u'|PWY-5280|',\n",
       " u'|PLPSAL-PWY|',\n",
       " u'|PANTOSYN-PWY|',\n",
       " u'|METSYN-PWY-1|',\n",
       " u'|BGALACT-PWY|',\n",
       " u'|PWY1UA-1|',\n",
       " u'|PWY1UA-3|',\n",
       " u'|PWY-5755|',\n",
       " u'|PWY-5486|',\n",
       " u'|PWY-6606|',\n",
       " u'|PYRIDNUCSYN-PWY|',\n",
       " u'|4-HYDROXYMANDELATE-DEGRADATION-PWY|',\n",
       " u'|PHESYN|',\n",
       " u'|PWY-6607|',\n",
       " u'|FUCCAT-PWY|',\n",
       " u'|PWY-2201|',\n",
       " u'|PHOSLIPSYN2-PWY|',\n",
       " u'|CYSTSYN-PWY|',\n",
       " u'|PWY1-2|',\n",
       " u'|SORBDEG-PWY|',\n",
       " u'|PWY-6595|',\n",
       " u'|PWY-5785|',\n",
       " u'|PWY-6596|',\n",
       " u'|SALVADEHYPOX-PWY|',\n",
       " u'|PWY1UA-12|',\n",
       " u'|PWY-5123|',\n",
       " u'|TOLUENE-DEG-CATECHOL-PWY|',\n",
       " u'|DETOX1-PWY|',\n",
       " u'|ANARESPACC-PWY|',\n",
       " u'|PANTO-PWY|',\n",
       " u'|PWY-5044|',\n",
       " u'|COMPLETE-ARO-PWY-1|',\n",
       " u'|HEMESYN2-PWY|',\n",
       " u'|PENTOSE-P-PWY|',\n",
       " u'|PWY-5697|',\n",
       " u'|UBISYN-PWY|',\n",
       " u'|BENZCOA-PWY|',\n",
       " u'|PWY-6543|',\n",
       " u'|PWY-5694|',\n",
       " u'|PWY-1269|',\n",
       " u'|ACETATEUTIL-PWY|',\n",
       " u'|DRIBOPMET-PWY|',\n",
       " u'|PWY-5691|',\n",
       " u'|PWY-1861|',\n",
       " u'|PWY-6147|',\n",
       " u'|ACETOACETATE-DEG-PWY|',\n",
       " u'|COLANSYN-PWY|',\n",
       " u'|PWY-6614|',\n",
       " u'|PWY-6613|',\n",
       " u'|P105-PWY|',\n",
       " u'|PWY-881|',\n",
       " u'|PWY-6612|',\n",
       " u'|PWY1A0-6325|',\n",
       " u'|PWY-7343|',\n",
       " u'|PWY1UA-5666|',\n",
       " u'|PWY-3701|',\n",
       " u'|ANARESPDON-PWY|',\n",
       " u'|GLYCOGENSYNTH-PWY|',\n",
       " u'|XYLCAT-PWY|',\n",
       " u'|UDPNACETYLGALSYN-PWY|',\n",
       " u'|PWY-561|',\n",
       " u'|FERMENTATION-PWY|',\n",
       " u'|LIPAS-PWY|',\n",
       " u'|MENAQUINONESYN-PWY|',\n",
       " u'|PWY1UA-17|',\n",
       " u'|ETOH-ACETYLCOA-ANA-PWY|',\n",
       " u'|PWY-842|',\n",
       " u'|ARO-PWY-1|',\n",
       " u'|NONOXIPENT-PWY|',\n",
       " u'|TRPSYN-PWY|',\n",
       " u'|PWY-1882|',\n",
       " u'|ARGININE-SYN4-PWY|',\n",
       " u'|PWY-6892|',\n",
       " u'|CAROTENOID-PWY|',\n",
       " u'|PWY-5852|',\n",
       " u'|PWY1UA-1584|',\n",
       " u'|PWY66-21|',\n",
       " u'|PWY1UA-1540|',\n",
       " u'|P344-PWY|',\n",
       " u'|GLYSYN-PWY|',\n",
       " u'|PWY-6894|',\n",
       " u'|12DICHLORETHDEG-PWY|',\n",
       " u'|SULFATE-CYS-PWY|',\n",
       " u'|PWY-5741-1|',\n",
       " u'|PWY-6890|',\n",
       " u'|PWY-7346|',\n",
       " u'|DHGLUCONATE-PYR-CAT-PWY|',\n",
       " u'|SAM-PWY|',\n",
       " u'|LYSINE-DEG1-PWY-1|',\n",
       " u'|UDPNAGSYN-PWY|',\n",
       " u'|PWY-7344|',\n",
       " u'|PWY-3461-1|',\n",
       " u'|P165-PWY|',\n",
       " u'|GLCMANNANAUT-PWY|',\n",
       " u'|CITRULLINE-DEG-PWY|',\n",
       " u'|PWY-5659|',\n",
       " u'|PWY-1341|',\n",
       " u'|PWY0-781|',\n",
       " u'|CYANCAT-PWY|',\n",
       " u'|P221-PWY|',\n",
       " u'|PWY1A0-6199|',\n",
       " u'|PWY-5523|',\n",
       " u'|P121-PWY|',\n",
       " u'|GALACTMETAB-PWY|',\n",
       " u'|PWY-1641|',\n",
       " u'|PRPP-PWY|',\n",
       " u'|PWY1G-2|',\n",
       " u'|PWY1F-353|',\n",
       " u'|PWY-66|',\n",
       " u'|PWY0-163|',\n",
       " u'|PWY-7226|',\n",
       " u'|PWY-5837|',\n",
       " u'|PWY-7227|',\n",
       " u'|RIB-DRIBMET-PWY|',\n",
       " u'|2AMINOBENZDEG-PWY|',\n",
       " u'|ALL-CHORISMATE-PWY|',\n",
       " u'|P345-PWY|',\n",
       " u'|PWY-6124|',\n",
       " u'|PWY-5443|',\n",
       " u'|2PHENDEG-PWY|',\n",
       " u'|PYRNUCYC-PWY|',\n",
       " u'|ARGDEG-V-PWY|',\n",
       " u'|PWY-6121|',\n",
       " u'|PWY-5188|',\n",
       " u'|PWY0-381-1|',\n",
       " u'|PWY-5901|',\n",
       " u'|PWY1UA-1493|',\n",
       " u'|GLUCONEO-PWY|',\n",
       " u'|PWY-1801|',\n",
       " u'|PWY-7184|',\n",
       " u'|PWY1UA-4|',\n",
       " u'|ENTBACSYN-PWY|',\n",
       " u'|PWY-5509|',\n",
       " u'|PWY-7187|',\n",
       " u'|GLUCONSUPER-PWY-1|',\n",
       " u'|PWY1G-0|',\n",
       " u'|POLYAMINSYN3-PWY|',\n",
       " u'|PWY-6163|',\n",
       " u'|PWY-5508|',\n",
       " u'|HOMOSER-THRESYN-PWY|',\n",
       " u'|PWY-6164|',\n",
       " u'|PWY-7376|',\n",
       " u'|PHENOLDEG-PWY|',\n",
       " u'|TYRSYN|',\n",
       " u'|ANAPHENOXI-PWY|',\n",
       " u'|P127-PWY|',\n",
       " u'|PWY1A0-6145|',\n",
       " u'|PWY-81|',\n",
       " u'|PWY-5517-1|',\n",
       " u'|COMPLETE-ARO-PWY|',\n",
       " u'|BRANCHED-CHAIN-AA-SYN-PWY|',\n",
       " u'|PWY-5887|',\n",
       " u'|PWY-5162|',\n",
       " u'|ARGSYNBSUB-PWY|',\n",
       " u'|PWY-5155|',\n",
       " u'|GALACTCAT-PWY|',\n",
       " u'|HISTSYN-PWY|',\n",
       " u'|PWY0-541|',\n",
       " u'|P1-PWY|',\n",
       " u'|PWY-43|',\n",
       " u'|OXIDATIVEPENT-PWY|',\n",
       " u'|URSIN-PWY|',\n",
       " u'|P183-PWY|',\n",
       " u'|PWY-3801|',\n",
       " u'|PWY0-661|',\n",
       " u'|PWY-46|',\n",
       " u'|PWY-6079|',\n",
       " u'|HYDROXYPRODEG-PWY|',\n",
       " u'|PHOSLIPSYN-PWY|',\n",
       " u'|LEUSYN-PWY|',\n",
       " u'|PWY-5695|',\n",
       " u'|SO4ASSIM-PWY-1|',\n",
       " u'|THISYN-PWY|',\n",
       " u'|PWY-6967|',\n",
       " u'|POLYAMSYN-PWY|',\n",
       " u'|DAPLYSINESYN-PWY|',\n",
       " u'|ASPARAGINE-BIOSYNTHESIS|',\n",
       " u'|HOMOSERSYN-PWY|',\n",
       " u'|PWY-6966|',\n",
       " u'|PWY-7176|',\n",
       " u'|PWY1UA-15|',\n",
       " u'|PWY-1701|',\n",
       " u'|PWY-5686|',\n",
       " u'|COA-PWY|',\n",
       " u'|THREONINE-DEG2-PWY|',\n",
       " u'|PWY-1501|',\n",
       " u'|FORMASS-PWY|',\n",
       " u'|PWY0-162|',\n",
       " u'|RIBOKIN-PWY|',\n",
       " u'|PWY0-501|',\n",
       " u'|PWY-7220|',\n",
       " u'|THRESYN-PWY|',\n",
       " u'|PYRUVOX-PWY|',\n",
       " u'|TRPCAT-PWY|']"
      ]
     },
     "execution_count": 14,
     "metadata": {},
     "output_type": "execute_result"
    }
   ],
   "source": [
    "meta.all_pathways()"
   ]
  },
  {
   "cell_type": "code",
   "execution_count": 15,
   "metadata": {},
   "outputs": [
    {
     "data": {
      "text/html": [
       "<table><tr><td>citations</td><td>[u'Challis2001', u'16276502', u'9287007', u'20358097', u':EV-EXP:3332696982:veronica', u':EV-COMP-HINF:3346399069:veronica']</td></tr><tr><td>comment</td><td>[u'The methylenomycin gene cluster is on the linear plasmid SCP1 |CITS: [833570]||CITS: [2992952]|. This cluster includes methylenomycin biosynthetic genes as well as genes involved in regulating methylenomycin production (<i>mmfRLHP-mmyR</i> and <i>mmyB</i>) |CITS: [19054329]| and in self resistance (<i>mmr</i>) |CITS: [1537793]|.\\n\\nBiosynthetic studies of the methylenomycins revealed that they results from the unusual assembly of pentulose and a diketide. Methylenomycin C (desepoxy-4,5-didehydro methylenomycin A), which is coproduced with methylenomycin A has been shown to be a biosynthetic precursor of methylenomycin A, while methylenomycin B results from the spontaneous decarboxylation of methylenomycin C in acidic conditions.']</td></tr><tr><td>common_name</td><td>methylenomycin biosynthesis</td></tr><tr><td>creation_date</td><td>3342775232</td></tr><tr><td>credits</td><td>[u'|O-24|', u'|vpoon|']</td></tr><tr><td>frameid</td><td>|PWY1A0-6145|</td></tr><tr><td>key_slots</td><td>|COMMON-NAME|</td></tr><tr><td>names</td><td>[u'methylenomycin biosynthesis']</td></tr><tr><td>pgdb</td><td><PGDB sco, currently has 1 PFrames></td></tr><tr><td>predecessors</td><td>{u'|RXN1A0-6280|': [u'|RXN1A0-6128|'], u'|RXN1A0-6144|': [u'|RXN1A0-6311|'], u'|RXN1A0-6143|': [u'|RXN1A0-6311|'], u'|RXN1A0-6311|': [u'|RXN1A0-6280|']}</td></tr><tr><td>primaries</td><td>{u'|RXN1A0-6280|': {u'|CPD1A0-6294|': None, u'|CPD1A0-6097|': None}, u'|RXN1A0-6128|': {u'|ACETYL-COA|': None, u'|CPD1A0-6097|': None}}</td></tr><tr><td>reaction_layout</td><td>[[u'|RXN1A0-6311|', [u'|LEFT-PRIMARIES|'], [u'|DIRECTION|', u'|L2R|'], [u'|RIGHT-PRIMARIES|']], [u'|RXN1A0-6280|', [u'|LEFT-PRIMARIES|'], [u'|DIRECTION|', u'|L2R|'], [u'|RIGHT-PRIMARIES|']], [u'|RXN1A0-6144|', [u'|LEFT-PRIMARIES|'], [u'|DIRECTION|', u'|L2R|'], [u'|RIGHT-PRIMARIES|']], [u'|RXN1A0-6143|', [u'|LEFT-PRIMARIES|'], [u'|DIRECTION|', u'|L2R|'], [u'|RIGHT-PRIMARIES|']], [u'|RXN1A0-6128|', [u'|LEFT-PRIMARIES|'], [u'|DIRECTION|', u'|L2R|'], [u'|RIGHT-PRIMARIES|']]]</td></tr><tr><td>reaction_list</td><td>[u'|RXN1A0-6311|', u'|RXN1A0-6280|', u'|RXN1A0-6144|', u'|RXN1A0-6143|', u'|RXN1A0-6128|']</td></tr><tr><td>schema_p</td><td>True</td></tr><tr><td>synonym_slots</td><td>[u'|ABBREV-NAME|', u'|SYNONYMS|']</td></tr></table>"
      ],
      "text/plain": [
       "<IPython.core.display.HTML object>"
      ]
     },
     "metadata": {},
     "output_type": "display_data"
    }
   ],
   "source": [
    "meta[\"PWY1A0-6145\"]"
   ]
  },
  {
   "cell_type": "code",
   "execution_count": 8,
   "metadata": {},
   "outputs": [],
   "source": [
    "r = meta[\"RXN1A0-6311\"]\n"
   ]
  },
  {
   "cell_type": "code",
   "execution_count": 10,
   "metadata": {
    "collapsed": true
   },
   "outputs": [],
   "source": [
    "r = meta[\"RXN1A0-6128\"]"
   ]
  },
  {
   "cell_type": "code",
   "execution_count": 30,
   "metadata": {},
   "outputs": [
    {
     "data": {
      "text/plain": [
       "[u'|CPD1A0-6294|', u'|CPD1A0-6125|']"
      ]
     },
     "execution_count": 30,
     "metadata": {},
     "output_type": "execute_result"
    }
   ],
   "source": [
    "meta.get_slot_values(r.frameid, \"SUBSTRATES\")"
   ]
  },
  {
   "cell_type": "code",
   "execution_count": 54,
   "metadata": {
    "collapsed": true
   },
   "outputs": [],
   "source": [
    "r = meta.get_frame_objects([\"RXN1A0-6128\"])"
   ]
  },
  {
   "cell_type": "code",
   "execution_count": 11,
   "metadata": {},
   "outputs": [
    {
     "data": {
      "text/html": [
       "<table><tr><td>citations</td><td>[u'Challis2001', u'16276502']</td></tr><tr><td>comment</td><td>[u'mmyC is believed to catalyze the decarboxylative condensation of malonyl-MmyA and acetyl-CoA to form acetoacetyl-MmyA.  \\r\\nBased on this hypothesis, MmyC is highly selective for acetyl-CoA over isobutyryl- or isovaleryl-CoA.']</td></tr><tr><td>creation_date</td><td>3342775232</td></tr><tr><td>ec_number</td><td>[u'|EC-2.3.1.41|']</td></tr><tr><td>enzymatic_reaction</td><td>[u'|ENZRXN1A0-6129|']</td></tr><tr><td>frameid</td><td>|RXN1A0-6128|</td></tr><tr><td>history</td><td>[u'|veronica-3353839806|']</td></tr><tr><td>in_pathway</td><td>[u'|PWY1A0-6145|']</td></tr><tr><td>key_slots</td><td>|COMMON-NAME|</td></tr><tr><td>left</td><td>[u'|ACETYL-COA|', u'|CPD1A0-6096|']</td></tr><tr><td>pgdb</td><td><PGDB sco, currently has 2 PFrames></td></tr><tr><td>physiologically_relevant_p</td><td>[True]</td></tr><tr><td>reaction_direction</td><td>|LEFT-TO-RIGHT|</td></tr><tr><td>right</td><td>[u'|CPD1A0-6097|', u'|CARBON-DIOXIDE|', u'|CO-A|']</td></tr><tr><td>schema_p</td><td>True</td></tr><tr><td>substrates</td><td>[u'|CPD1A0-6096|', u'|ACETYL-COA|', u'|CPD1A0-6097|', u'|CARBON-DIOXIDE|', u'|CO-A|']</td></tr><tr><td>synonym_slots</td><td>[u'|ABBREV-NAME|', u'|SYNONYMS|']</td></tr></table>"
      ],
      "text/plain": [
       "<IPython.core.display.HTML object>"
      ]
     },
     "metadata": {},
     "output_type": "display_data"
    }
   ],
   "source": [
    "r"
   ]
  },
  {
   "cell_type": "code",
   "execution_count": 12,
   "metadata": {},
   "outputs": [
    {
     "data": {
      "text/plain": [
       "[u'|EC-2.3.1.41|']"
      ]
     },
     "execution_count": 12,
     "metadata": {},
     "output_type": "execute_result"
    }
   ],
   "source": [
    "r[\"ec_number\"]"
   ]
  },
  {
   "cell_type": "code",
   "execution_count": 20,
   "metadata": {},
   "outputs": [
    {
     "name": "stdout",
     "output_type": "stream",
     "text": [
      "None\n"
     ]
    }
   ],
   "source": [
    "a = meta[\"EC-2.3.1.41\"]\n",
    "print(a)"
   ]
  }
 ],
 "metadata": {
  "anaconda-cloud": {},
  "kernelspec": {
   "display_name": "Python [conda env:pythoncyc]",
   "language": "python",
   "name": "conda-env-pythoncyc-py"
  },
  "language_info": {
   "codemirror_mode": {
    "name": "ipython",
    "version": 2
   },
   "file_extension": ".py",
   "mimetype": "text/x-python",
   "name": "python",
   "nbconvert_exporter": "python",
   "pygments_lexer": "ipython2",
   "version": "2.7.13"
  }
 },
 "nbformat": 4,
 "nbformat_minor": 2
}
